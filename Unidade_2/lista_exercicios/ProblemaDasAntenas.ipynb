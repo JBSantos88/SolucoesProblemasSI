{
 "cells": [
  {
   "cell_type": "code",
   "execution_count": 2,
   "id": "aa97190b-761c-4480-9c31-cf1beda2b01e",
   "metadata": {},
   "outputs": [
    {
     "name": "stdout",
     "output_type": "stream",
     "text": [
      "[0, 0, 1, 0, 0, 1]\n"
     ]
    }
   ],
   "source": [
    "import  random \n",
    "import math\n",
    "m = [[0,0,1,0,0,0],\n",
    "     [0,0,1,0,0,0],\n",
    "     [1,1,0,1,1,0],\n",
    "     [0,0,1,0,0,1],\n",
    "     [0,0,1,0,0,1],\n",
    "     [0,0,0,1,1,0]\n",
    "]\n",
    "\n",
    "def objetivo(estado):\n",
    "    contador = len(estado)*[0]\n",
    "    for x in estado:\n",
    "        contador[x] = 1\n",
    "    soma = 0\n",
    "    for x in contador:\n",
    "        soma += x\n",
    "    return len(estado) - soma\n",
    "\n",
    "def valido(estado):\n",
    "    for i in range(len(m)):\n",
    "        linha = m[i]\n",
    "        for j in range(len(linha)):\n",
    "            if(m[i][j]==1):\n",
    "                if(estado[i] == estado[j]):\n",
    "                    return False\n",
    "    return True\n",
    "\n",
    "def sucessor(estado):\n",
    "    candidato = estado.copy()\n",
    "    indice = random.randint(0,len(estado)-1)\n",
    "    valor = random.randint(0,len(estado)-1)\n",
    "    candidato[indice] = valor\n",
    "    if(not valido(candidato)):\n",
    "        return estado\n",
    "    return candidato\n",
    "\n",
    "def estado_inicial():\n",
    "    inicial = []\n",
    "    for i in range(len(m)):\n",
    "        inicial.append(i)\n",
    "    return inicial\n",
    "\n",
    "def prob(delta_E,T):\n",
    "    limite = math.exp(delta_E/T)\n",
    "    sorteio = random.uniform(0,1)\n",
    "    if(sorteio < limite):\n",
    "        return True\n",
    "    return False\n",
    "\n",
    "atual = estado_inicial()\n",
    "T = 1000\n",
    "\n",
    "while(True):\n",
    "        T = 0.999*T\n",
    "        if(T < 0.00001):\n",
    "            break\n",
    "        proximo = sucessor(atual)\n",
    "        delta_E = objetivo(proximo) - objetivo(atual)\n",
    "        if(delta_E > 0 or prob(delta_E,T)):\n",
    "           atual = proximo\n",
    "print(atual)\n",
    "    "
   ]
  }
 ],
 "metadata": {
  "kernelspec": {
   "display_name": "Python 3 (ipykernel)",
   "language": "python",
   "name": "python3"
  },
  "language_info": {
   "codemirror_mode": {
    "name": "ipython",
    "version": 3
   },
   "file_extension": ".py",
   "mimetype": "text/x-python",
   "name": "python",
   "nbconvert_exporter": "python",
   "pygments_lexer": "ipython3",
   "version": "3.10.7"
  }
 },
 "nbformat": 4,
 "nbformat_minor": 5
}
