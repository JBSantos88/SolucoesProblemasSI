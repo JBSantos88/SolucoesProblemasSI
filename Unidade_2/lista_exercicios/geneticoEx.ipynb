{
 "cells": [
  {
   "cell_type": "code",
   "execution_count": 22,
   "id": "ea0a9959-f60b-4630-b0b0-35af8573fb96",
   "metadata": {},
   "outputs": [
    {
     "name": "stdout",
     "output_type": "stream",
     "text": [
      "x =  -0.0025595329379093368 f =  354.80237697838896\n"
     ]
    }
   ],
   "source": [
    "\n",
    "from random import uniform, randint\n",
    "import math \n",
    "\n",
    "def goal(x):\n",
    "\treturn math.sin(1/x)/x\n",
    "\n",
    "class State:\n",
    "\tdef __init__(self, x):\n",
    "\t\tself.x = x\n",
    "\t\tself.f = goal(x)\n",
    "\n",
    "def succ(s):\n",
    "\tx1 = s.x + uniform(-1.0, 1.0)\n",
    "\treturn State(x1)\n",
    "\n",
    "def initialState():\n",
    "\treturn State(uniform(0.01,1))\n",
    "\n",
    "def choose(set):\n",
    "\tx = set[randint(0, len(set)-1)]\n",
    "\ty = set[randint(0, len(set)-1)]\n",
    "\tif(x.f > y.f):\n",
    "\t\treturn x\n",
    "\treturn y\n",
    "\n",
    "def cross(x,y):\n",
    "\tnext_x = (x.x + y.x)/2.0\n",
    "\treturn State(next_x)\n",
    "\n",
    "def mutate(s):\n",
    "\tif(uniform(0.0,1.0)<0.8):\n",
    "\t\treturn succ(s)\n",
    "\treturn s\n",
    "\n",
    "population_size = 100\n",
    "number_of_generations = 100\n",
    "current_gen = []\n",
    "\n",
    "for i in range(population_size):\n",
    "\tcurrent_gen.append(initialState())\n",
    "\n",
    "for i in range(number_of_generations):\n",
    "\tnext_gen = []\n",
    "\tfor j in range(population_size):\n",
    "\t\tx = choose(current_gen)\n",
    "\t\ty = choose(current_gen)\n",
    "\t\tchild = cross(x,y)\n",
    "\t\tchild = mutate(child)\n",
    "\t\tnext_gen.append(child)\n",
    "\tcurrent_gen = next_gen\n",
    "\n",
    "best = current_gen[0]\n",
    "for s in current_gen:\n",
    "\tif(s.f > best.f):\n",
    "\t\tbest = s\n",
    "print('x = ',best.x, 'f = ',best.f)\n",
    "\n"
   ]
  }
 ],
 "metadata": {
  "kernelspec": {
   "display_name": "Python 3 (ipykernel)",
   "language": "python",
   "name": "python3"
  },
  "language_info": {
   "codemirror_mode": {
    "name": "ipython",
    "version": 3
   },
   "file_extension": ".py",
   "mimetype": "text/x-python",
   "name": "python",
   "nbconvert_exporter": "python",
   "pygments_lexer": "ipython3",
   "version": "3.10.7"
  }
 },
 "nbformat": 4,
 "nbformat_minor": 5
}
