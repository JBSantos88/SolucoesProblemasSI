{
 "cells": [
  {
   "cell_type": "code",
   "execution_count": null,
   "id": "356d874f-dc51-41d6-b12e-c8cdf11a86c9",
   "metadata": {},
   "outputs": [
    {
     "name": "stdout",
     "output_type": "stream",
     "text": [
      "3\n",
      "3\n"
     ]
    }
   ],
   "source": [
    "import random\n",
    "\n",
    "limite_distritos = 3\n",
    "\n",
    "vet = [[0, 29, 38, 78, 21, 58, 29, 57],\n",
    "       [66, 0, 32, 77, 47, 69, 27, 34], \n",
    "       [32, 71, 0, 51, 83, 41, 59, 48], \n",
    "       [65, 46, 46, 0, 78, 21, 38, 63],\n",
    "       [15, 82, 50, 84, 0, 65, 68, 79],\n",
    "       [24, 53, 71, 31, 61, 0, 78, 77],\n",
    "       [73, 64, 57, 58, 23, 36, 0, 63],\n",
    "       [38, 70, 25, 23, 37, 36, 13, 0]]\n",
    "\n",
    "def cruzamento(parent1, parent2):\n",
    "    tamanho = len(parent1)\n",
    "    filho = []\n",
    "    for i in range(0,tamanho):\n",
    "        moeda = (random.randint(0,1)>0.5)\n",
    "        if(moeda):\n",
    "            filho.append(parent1[i])\n",
    "        else:\n",
    "            filho.append(parent2[i])\n",
    "    return filho\n",
    "\n",
    "def mutacao(filho):\n",
    "    tamanho = len(filho)\n",
    "    taxa_mutacao = 0.75\n",
    "    aux = 0\n",
    "    if(random.uniform(0,1)<taxa_mutacao):\n",
    "        indice1 = random.randint(0,tamanho)\n",
    "        if(filho[indice1] == 1):\n",
    "            indice2 = random.randint(0,tamanho)\n",
    "            if(filho[indice2] == 0):\n",
    "                filho[indice1] = 0\n",
    "                filho[indice2] = 1\n",
    "    return filho\n",
    "\n",
    "tamanho_populacao = 150\n",
    "\n",
    "def populacao_inicial():\n",
    "    individuos = []\n",
    "    \n",
    "    for i in range(tamanho_populacao):\n",
    "        individuo = []\n",
    "        count = 0\n",
    "        for x in range(0,8):\n",
    "            individuo.append(0)\n",
    "        while(count!=3):\n",
    "            indice = random.randint(0,7)\n",
    "            if (individuo[indice] == 0):\n",
    "                individuo[indice] = 1\n",
    "                count +=1\n",
    "            else:\n",
    "                count -= 1\n",
    "        print(count)\n",
    "        individuos.append(individuo)\n",
    "    return individuos\n",
    "\n",
    "vet = populacao_inicial()\n",
    "print(vet)\n",
    "    \n",
    "\n"
   ]
  }
 ],
 "metadata": {
  "kernelspec": {
   "display_name": "Python 3 (ipykernel)",
   "language": "python",
   "name": "python3"
  },
  "language_info": {
   "codemirror_mode": {
    "name": "ipython",
    "version": 3
   },
   "file_extension": ".py",
   "mimetype": "text/x-python",
   "name": "python",
   "nbconvert_exporter": "python",
   "pygments_lexer": "ipython3",
   "version": "3.10.7"
  }
 },
 "nbformat": 4,
 "nbformat_minor": 5
}
