{
 "cells": [
  {
   "cell_type": "code",
   "execution_count": null,
   "id": "30fc2baa-e80a-4067-8c38-119f40b087fa",
   "metadata": {},
   "outputs": [],
   "source": [
    "    --- Algoritmos de Otimização ---\n",
    "\n",
    "        'Subida de encosta'\n",
    "    \n",
    "    Algoritmo: \n",
    "\n",
    "      atual <- estado inicial\n",
    "      para t de 1 até inf faça:\n",
    "        T <- escalonamento(t)\n",
    "        se t = 0 retorna atual\n",
    "        próximo <- sucessor qualquer de atual\n",
    "        delta_E <- valor(próximo) - valor(atual)\n",
    "        se delta_E > 0 então atual <- próximo\n",
    "        senão atual <- próximo com probabilidade exp(delta_E/T)\n",
    "        \n",
    "         'Têmpera simulada (Simulated annealing)'\n",
    "            \n",
    "    Algoritmo:\n",
    "      \n",
    "      atual <- estado inicial\n",
    "      para t de 1 até inf faça:\n",
    "        T <- escalonamento(t)\n",
    "        se t = 0 retorna atual\n",
    "        próximo <- sucessor qualquer de atual\n",
    "        delta_E <- valor(próximo) - valor(atual)\n",
    "        se delta_E > 0 então atual <- próximo\n",
    "        senão atual <- próximo com probabilidade exp(delta_E/T)\n",
    " \n",
    "        Características:\n",
    "      - É completo: seu caráter aleatório garante eventualmente um estado ótimo será gerado (pode ser necessário um tempo de execução indefinidamente alto).\n",
    "      - O fator exp(delta_E/T): a probabilidade de irmos para um estado pior é pequena quando T diminui.\n"
   ]
  }
 ],
 "metadata": {
  "kernelspec": {
   "display_name": "Python 3 (ipykernel)",
   "language": "python",
   "name": "python3"
  },
  "language_info": {
   "codemirror_mode": {
    "name": "ipython",
    "version": 3
   },
   "file_extension": ".py",
   "mimetype": "text/x-python",
   "name": "python",
   "nbconvert_exporter": "python",
   "pygments_lexer": "ipython3",
   "version": "3.10.7"
  }
 },
 "nbformat": 4,
 "nbformat_minor": 5
}
