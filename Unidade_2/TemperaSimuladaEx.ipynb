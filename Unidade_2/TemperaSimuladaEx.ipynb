{
 "cells": [
  {
   "cell_type": "code",
   "execution_count": 4,
   "id": "c8133b00-d6c2-4211-8cbe-d03a4fe781d4",
   "metadata": {},
   "outputs": [
    {
     "name": "stdout",
     "output_type": "stream",
     "text": [
      "y =  826.8795405320025\n",
      "x =  0.001\n"
     ]
    }
   ],
   "source": [
    "\n",
    "\"\"\"\n",
    "\n",
    "Algoritmo de Têmpera Simulada\n",
    "Objetivo: encontrar o valor de x que maximiza a função:\n",
    "\n",
    "                y = sen(1/x)/x \n",
    "\n",
    "\"\"\"\n",
    "\n",
    "import math\n",
    "import numpy\n",
    "\n",
    "def vizinho(x):\n",
    "\n",
    "    delta = numpy.random.uniform(-0.0001, 0.0001)\n",
    "    x = x+delta\n",
    "\n",
    "    if x < 0.01:\n",
    "        x = 0.001\n",
    "    if x > 1:\n",
    "        x = 1\n",
    "    return x\n",
    "\n",
    "def valor(x):\n",
    "\n",
    "    y = math.sin(1/x)/x\n",
    "    return y\n",
    "\n",
    "\n",
    "def initialState():\n",
    "    return numpy.random.uniform(0.01,1)\n",
    "\n",
    "\n",
    "def probabilidade(t, delta_e):\n",
    "\n",
    "    p = math.exp(delta_e/t)\n",
    "    return p\n",
    "\n",
    "atual = initialState()\n",
    "t = 700000\n",
    "tmin = 1\n",
    "\n",
    "while (t>tmin):\n",
    "\n",
    "    t = 0.99999*t\n",
    "    \n",
    "    prox = vizinho(atual)\n",
    "    delta_e = valor(prox) - valor(atual)\n",
    "\n",
    "    if (delta_e>0):\n",
    "        atual = prox\n",
    "    else: \n",
    "        p = probabilidade(t,delta_e)\n",
    "        if(numpy.random.uniform(0,1) < p):\n",
    "            atual = prox\n",
    "\n",
    "print(\"y = \",valor(atual))\n",
    "print(\"x = \",prox)\n"
   ]
  }
 ],
 "metadata": {
  "kernelspec": {
   "display_name": "Python 3 (ipykernel)",
   "language": "python",
   "name": "python3"
  },
  "language_info": {
   "codemirror_mode": {
    "name": "ipython",
    "version": 3
   },
   "file_extension": ".py",
   "mimetype": "text/x-python",
   "name": "python",
   "nbconvert_exporter": "python",
   "pygments_lexer": "ipython3",
   "version": "3.10.7"
  }
 },
 "nbformat": 4,
 "nbformat_minor": 5
}
