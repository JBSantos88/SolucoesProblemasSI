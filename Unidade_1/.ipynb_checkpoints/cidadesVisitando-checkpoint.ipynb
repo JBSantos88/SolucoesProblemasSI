{
 "cells": [
  {
   "cell_type": "code",
   "execution_count": 3,
   "id": "d44594a2-7a58-43a1-a1d0-5aa493699e1e",
   "metadata": {},
   "outputs": [
    {
     "name": "stdout",
     "output_type": "stream",
     "text": [
      "Cidade: A, False, False\n",
      "Cidade: C, False, False\n",
      "Cidade: E, False, True\n",
      "Cidade: G, True, False\n",
      "Cidade: H, True, True\n"
     ]
    }
   ],
   "source": [
    "adj = [\n",
    "    [0, 1, 1, 0, 0, 0, 0, 0],\n",
    "    [0, 0, 0, 1, 0, 0, 0, 1],\n",
    "    [0, 0, 0, 0, 1, 0, 1, 0],\n",
    "    [0, 0, 1, 0, 0, 0, 1, 0],\n",
    "    [0, 0, 0, 0, 0, 1, 1, 0],\n",
    "    [0, 1, 1, 0, 0, 0, 0, 0],\n",
    "    [0, 0, 0, 1, 0, 0, 0, 1],\n",
    "    [1, 0, 0, 0, 0, 0, 1, 0]\n",
    "]\n",
    "\n",
    "class State: \t\n",
    "    def __init__(self, pai, cidade, visitouH, visitouE): \t\t\n",
    "        self.pai = pai \t\t\n",
    "        self.cidade = cidade\t\t\n",
    "        self.visitouH = visitouH or cidade == 4\n",
    "        self.visitouE = visitouE or cidade == 7\n",
    "        \n",
    "def initialState(): \n",
    "    return State(None, 0, 0, 0)\n",
    "    \n",
    "def showState(s): \t\n",
    "    cidades = ['A', 'B', 'C', 'D', 'E', 'F', 'G', 'H']\n",
    "    print(f'Cidade: {cidades[s.cidade]}, {s.visitouE}, {s.visitouH}')\n",
    "\n",
    "def goal(s): \n",
    "    return s.visitouH != 0 and s.visitouE != 0\n",
    "        \n",
    "def expand(s): \t\n",
    "    ret = []\n",
    "    cidade = s.cidade\n",
    "    for i in range(len(adj)):\n",
    "        if(adj[cidade][i] != 0):\n",
    "            filho = State(s, i, s.visitouE, s.visitouH)\n",
    "            ret.append(filho)\n",
    "\n",
    "    return ret\n",
    "\n",
    "def showPath(s):\n",
    "    if(s == None):\n",
    "        return\n",
    "    showPath(s.pai)\n",
    "    showState(s)\n",
    "\n",
    "queue = []\n",
    "\n",
    "def enqueue(s):\n",
    "    queue.append(s)\n",
    "\n",
    "def dequeue():\n",
    "    return queue.pop(0)\n",
    "\n",
    "s = initialState()\n",
    "enqueue(s)\n",
    "\n",
    "while(queue):\n",
    "    s = dequeue()\n",
    "\n",
    "    if(goal(s)):\n",
    "        showPath(s)\n",
    "        break\n",
    "\n",
    "    children = expand(s)\n",
    "    for child in children:\n",
    "        enqueue(child)"
   ]
  }
 ],
 "metadata": {
  "kernelspec": {
   "display_name": "Python 3 (ipykernel)",
   "language": "python",
   "name": "python3"
  },
  "language_info": {
   "codemirror_mode": {
    "name": "ipython",
    "version": 3
   },
   "file_extension": ".py",
   "mimetype": "text/x-python",
   "name": "python",
   "nbconvert_exporter": "python",
   "pygments_lexer": "ipython3",
   "version": "3.10.7"
  }
 },
 "nbformat": 4,
 "nbformat_minor": 5
}
