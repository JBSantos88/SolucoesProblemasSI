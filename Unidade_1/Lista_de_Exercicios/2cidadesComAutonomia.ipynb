{
 "cells": [
  {
   "cell_type": "code",
   "execution_count": 3,
   "id": "418cb709-4f85-4a34-a882-2a4b0dbea964",
   "metadata": {},
   "outputs": [
    {
     "name": "stdout",
     "output_type": "stream",
     "text": [
      "Cidade:  0 Autonomia:  80\n",
      "Cidade:  2 Autonomia:  50\n",
      "Cidade:  4 Autonomia:  40\n",
      "Cidade:  5 Autonomia:  0\n"
     ]
    }
   ],
   "source": [
    "dists = [\n",
    "[0, 15, 30, 0, 0, 0, 0, 0],\n",
    "[0, 0, 0, 70, 0, 0, 0, 10],\n",
    "[0, 0, 0, 0, 10, 0, 70, 0],\n",
    "[0, 0, 20, 0, 0, 0, 20, 0],\n",
    "[0, 0, 0, 0, 0, 40, 60, 0],\n",
    "[0, 60, 70, 0, 0, 0, 0, 0],\n",
    "[0, 0, 0, 10, 0, 0, 0, 15],\n",
    "[40, 0, 0, 0, 0, 0, 50, 0]\n",
    "]\n",
    "\n",
    "class State:\n",
    "    def __init__(self, parent, cidade, autonomia):\n",
    "        self.parent = parent\n",
    "        self.cidade = cidade\n",
    "        self.autonomia = autonomia\n",
    "\n",
    "def initialState():\n",
    "    return State(None,0,80)\n",
    "\n",
    "def showState(s):\n",
    "    print(\"Cidade: \", s.cidade, \"Autonomia: \", s.autonomia)\n",
    "\n",
    "def goal(s):\n",
    "    return(s.cidade == 5)\n",
    "\n",
    "def expand(s):\n",
    "    ret = []\n",
    "    origem = s.cidade\n",
    "    for i in range(len(dists[origem])):\n",
    "        if(dists[origem][i]!=0 and dists[origem][i]<=s.autonomia):\n",
    "            filho = State(s,i,s.autonomia - dists[origem][i])\n",
    "            ret.append(filho)\n",
    "    return ret\n",
    "def showPath(s):\n",
    "    if(s==None):\n",
    "        return\n",
    "    showPath(s.parent)\n",
    "    showState(s)\n",
    "queue = []\n",
    "\n",
    "def enqueue(s):\n",
    "    queue.append(s)\n",
    "\n",
    "def dequeue():\n",
    "    return queue.pop(0)\n",
    "\n",
    "s = initialState()\n",
    "enqueue(s)\n",
    "\n",
    "while(queue):\n",
    "    s = dequeue()\n",
    "    if(goal(s)):\n",
    "        showPath(s)\n",
    "        break\n",
    "    children = expand(s)\n",
    "    for child in children:\n",
    "        enqueue(child)\n"
   ]
  }
 ],
 "metadata": {
  "kernelspec": {
   "display_name": "Python 3 (ipykernel)",
   "language": "python",
   "name": "python3"
  },
  "language_info": {
   "codemirror_mode": {
    "name": "ipython",
    "version": 3
   },
   "file_extension": ".py",
   "mimetype": "text/x-python",
   "name": "python",
   "nbconvert_exporter": "python",
   "pygments_lexer": "ipython3",
   "version": "3.10.7"
  }
 },
 "nbformat": 4,
 "nbformat_minor": 5
}
