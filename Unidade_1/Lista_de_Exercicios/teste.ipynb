{
 "cells": [
  {
   "cell_type": "code",
   "execution_count": 12,
   "id": "80cd9595-8969-48ca-9951-ee0555f5cbaf",
   "metadata": {},
   "outputs": [
    {
     "name": "stdout",
     "output_type": "stream",
     "text": [
      "[[3, 2, 1], [5, 6, 7], [5, 6, 7]]\n",
      "[[0, 2, 1], [5, 6, 7], [5, 99, 7]]\n"
     ]
    }
   ],
   "source": [
    "from copy import *\n",
    "l1 = [[3,2,1],\n",
    "      [5,6,7],\n",
    "      [5,6,7]\n",
    "     ]\n",
    "l2 = deepcopy(l1)\n",
    "l2 [0][0] = 0\n",
    "l2 [2][1] = 99\n",
    "print(l1)\n",
    "print(l2)\n",
    "\n",
    "[1, 2, 3], \n",
    "[4, 5, 6], \n",
    "[7, 8, 9]\n",
    "\n",
    "\n"
   ]
  }
 ],
 "metadata": {
  "kernelspec": {
   "display_name": "Python 3 (ipykernel)",
   "language": "python",
   "name": "python3"
  },
  "language_info": {
   "codemirror_mode": {
    "name": "ipython",
    "version": 3
   },
   "file_extension": ".py",
   "mimetype": "text/x-python",
   "name": "python",
   "nbconvert_exporter": "python",
   "pygments_lexer": "ipython3",
   "version": "3.10.7"
  }
 },
 "nbformat": 4,
 "nbformat_minor": 5
}
