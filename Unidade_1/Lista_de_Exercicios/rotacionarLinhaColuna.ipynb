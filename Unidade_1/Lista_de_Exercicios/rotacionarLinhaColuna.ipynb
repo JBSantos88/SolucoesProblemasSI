{
 "cells": [
  {
   "cell_type": "code",
   "execution_count": 1,
   "id": "aa5d5fb9-d71c-44b8-8866-89a08e72ccd2",
   "metadata": {},
   "outputs": [
    {
     "name": "stderr",
     "output_type": "stream",
     "text": [
      "\n",
      "KeyboardInterrupt\n",
      "\n"
     ]
    }
   ],
   "source": [
    "from copy import deepcopy\n",
    "\n",
    "class State:\n",
    "    def __init__(self, pai, matriz): \n",
    "        self.pai = pai \n",
    "        self.matriz = matriz\n",
    "        \n",
    "def initialState(): \n",
    "    return State(None, [[2, 6, 1], [4, 5, 9], [6, 3, 7]])\n",
    "    \n",
    "def showState(s):\n",
    "    for linha in s.matriz:\n",
    "        print(linha)\n",
    "    print(\"\")\n",
    "\n",
    "def goal(s): \n",
    "    return s.matriz == [[1, 2, 3], [4, 5, 6], [7, 8, 9]]\n",
    "        \n",
    "def expand(s):\n",
    "    ret = []\n",
    "    \n",
    "    for i in range(3):\n",
    "        aux = deepcopy(s.matriz)\n",
    "        linha = aux[i]\n",
    "        linha[0], linha[1], linha[2] = linha[2], linha[0], linha[1]\n",
    "        ret.append(State(s,aux))\n",
    "\n",
    "    for i in range(3):\n",
    "        aux = deepcopy(s.matriz)\n",
    "        aux[0][i], aux[1][i], aux[2][i] = aux[2][i], aux[0][i], aux[1][i]\n",
    "        ret.append(State(s,aux))\n",
    "    \n",
    "    return ret\n",
    "\n",
    "def showPath(s):\n",
    "    if(s == None):\n",
    "        return\n",
    "    showPath(s.pai)\n",
    "    showState(s)\n",
    "\n",
    "queue = []\n",
    "\n",
    "def enqueue(s):\n",
    "    queue.append(s)\n",
    "\n",
    "def dequeue():\n",
    "    return queue.pop(0)\n",
    "\n",
    "s = initialState()\n",
    "enqueue(s)\n",
    "\n",
    "while(queue):\n",
    "    s = dequeue()\n",
    "\n",
    "    if(goal(s)):\n",
    "        showPath(s)\n",
    "        break\n",
    "\n",
    "    children = expand(s)\n",
    "    for child in children:\n",
    "        enqueue(child)"
   ]
  },
  {
   "cell_type": "code",
   "execution_count": null,
   "id": "5b8de999-c389-465c-be93-283d324947b3",
   "metadata": {},
   "outputs": [],
   "source": []
  }
 ],
 "metadata": {
  "kernelspec": {
   "display_name": "Python 3 (ipykernel)",
   "language": "python",
   "name": "python3"
  },
  "language_info": {
   "codemirror_mode": {
    "name": "ipython",
    "version": 3
   },
   "file_extension": ".py",
   "mimetype": "text/x-python",
   "name": "python",
   "nbconvert_exporter": "python",
   "pygments_lexer": "ipython3",
   "version": "3.10.7"
  }
 },
 "nbformat": 4,
 "nbformat_minor": 5
}
